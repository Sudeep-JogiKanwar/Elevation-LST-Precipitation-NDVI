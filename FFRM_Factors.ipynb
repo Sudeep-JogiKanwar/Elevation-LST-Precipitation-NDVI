{
 "cells": [
  {
   "cell_type": "markdown",
   "id": "1f1482f9-1891-4acb-9645-0b5f059089ce",
   "metadata": {},
   "source": [
    "# Environmental Data Analysis "
   ]
  },
  {
   "cell_type": "code",
   "execution_count": 1,
   "id": "420f78d5-0523-4b31-8a0a-d7fc9d28dd01",
   "metadata": {},
   "outputs": [],
   "source": [
    "import ee\n",
    "import geemap"
   ]
  },
  {
   "cell_type": "code",
   "execution_count": 2,
   "id": "58f8add5-c54c-4132-a809-eff42b00a36d",
   "metadata": {},
   "outputs": [
    {
     "data": {
      "text/html": [
       "\n",
       "            <style>\n",
       "                .geemap-dark {\n",
       "                    --jp-widgets-color: white;\n",
       "                    --jp-widgets-label-color: white;\n",
       "                    --jp-ui-font-color1: white;\n",
       "                    --jp-layout-color2: #454545;\n",
       "                    background-color: #383838;\n",
       "                }\n",
       "\n",
       "                .geemap-dark .jupyter-button {\n",
       "                    --jp-layout-color3: #383838;\n",
       "                }\n",
       "\n",
       "                .geemap-colab {\n",
       "                    background-color: var(--colab-primary-surface-color, white);\n",
       "                }\n",
       "\n",
       "                .geemap-colab .jupyter-button {\n",
       "                    --jp-layout-color3: var(--colab-primary-surface-color, white);\n",
       "                }\n",
       "            </style>\n",
       "            "
      ],
      "text/plain": [
       "<IPython.core.display.HTML object>"
      ]
     },
     "metadata": {},
     "output_type": "display_data"
    }
   ],
   "source": [
    "# Initialize Earth Engine\n",
    "ee.Authenticate()\n",
    "ee.Initialize(project=\"earthengine-first-project\")"
   ]
  },
  {
   "cell_type": "code",
   "execution_count": 3,
   "id": "4fde8fdc-ae0a-44a9-a401-5cc3a2f1a00b",
   "metadata": {},
   "outputs": [
    {
     "data": {
      "text/html": [
       "\n",
       "            <style>\n",
       "                .geemap-dark {\n",
       "                    --jp-widgets-color: white;\n",
       "                    --jp-widgets-label-color: white;\n",
       "                    --jp-ui-font-color1: white;\n",
       "                    --jp-layout-color2: #454545;\n",
       "                    background-color: #383838;\n",
       "                }\n",
       "\n",
       "                .geemap-dark .jupyter-button {\n",
       "                    --jp-layout-color3: #383838;\n",
       "                }\n",
       "\n",
       "                .geemap-colab {\n",
       "                    background-color: var(--colab-primary-surface-color, white);\n",
       "                }\n",
       "\n",
       "                .geemap-colab .jupyter-button {\n",
       "                    --jp-layout-color3: var(--colab-primary-surface-color, white);\n",
       "                }\n",
       "            </style>\n",
       "            "
      ],
      "text/plain": [
       "<IPython.core.display.HTML object>"
      ]
     },
     "metadata": {},
     "output_type": "display_data"
    }
   ],
   "source": [
    "# Initialize map\n",
    "m = geemap.Map()\n",
    "\n",
    "# Load study area shapefile\n",
    "fc = geemap.shp_to_ee(r\"E:\\New folder (3)\\FFRM_Lumbini\\Study area\\Lumbini_province.shp\")\n",
    "style = {\"color\": \"black\", \"fillColor\": \"#00000000\", \"width\": 2}\n",
    "m.add_layer(fc.style(**style), {}, \"Lumbini Province\")\n",
    "m.centerObject(fc)"
   ]
  },
  {
   "cell_type": "markdown",
   "id": "bbedaa69-4481-4bfb-8db2-ddfccfbda9b6",
   "metadata": {},
   "source": [
    "## Elevation (SRTM 30)"
   ]
  },
  {
   "cell_type": "code",
   "execution_count": 4,
   "id": "e65c426d-5e0c-4cf8-96fa-66f885f2fb57",
   "metadata": {},
   "outputs": [
    {
     "data": {
      "text/html": [
       "\n",
       "            <style>\n",
       "                .geemap-dark {\n",
       "                    --jp-widgets-color: white;\n",
       "                    --jp-widgets-label-color: white;\n",
       "                    --jp-ui-font-color1: white;\n",
       "                    --jp-layout-color2: #454545;\n",
       "                    background-color: #383838;\n",
       "                }\n",
       "\n",
       "                .geemap-dark .jupyter-button {\n",
       "                    --jp-layout-color3: #383838;\n",
       "                }\n",
       "\n",
       "                .geemap-colab {\n",
       "                    background-color: var(--colab-primary-surface-color, white);\n",
       "                }\n",
       "\n",
       "                .geemap-colab .jupyter-button {\n",
       "                    --jp-layout-color3: var(--colab-primary-surface-color, white);\n",
       "                }\n",
       "            </style>\n",
       "            "
      ],
      "text/plain": [
       "<IPython.core.display.HTML object>"
      ]
     },
     "metadata": {},
     "output_type": "display_data"
    }
   ],
   "source": [
    "# Load and process SRTM elevation data\n",
    "srtm = ee.Image('USGS/SRTMGL1_003')\n",
    "elevation = srtm.clip(fc)\n",
    "\n",
    "# Visualization parameters\n",
    "elevation_vis = {\n",
    "    'min': 0,\n",
    "    'max': 4000,\n",
    "    'palette': ['0000ff', '00ffff', '00ff00', 'ffff00', 'ff0000']\n",
    "}\n",
    "\n",
    "m.add_layer(elevation, elevation_vis, \"SRTM Elevation\")\n",
    "\n",
    "# Export elevation data\n",
    "elevation_export = elevation.unmask()\n",
    "geemap.ee_export_image_to_drive(\n",
    "    elevation_export, \n",
    "    description=\"lumbini_elevation.tif\",\n",
    "    scale=30,\n",
    "    region=fc.geometry().bounds(),\n",
    ")"
   ]
  },
  {
   "cell_type": "markdown",
   "id": "4b64fd39-04fc-4d17-937d-e4af6b15b800",
   "metadata": {},
   "source": [
    "## Land Surface Temperature (MODIS)"
   ]
  },
  {
   "cell_type": "code",
   "execution_count": 5,
   "id": "7a4a4921-f372-4408-914c-0ff718163e28",
   "metadata": {},
   "outputs": [
    {
     "data": {
      "text/html": [
       "\n",
       "            <style>\n",
       "                .geemap-dark {\n",
       "                    --jp-widgets-color: white;\n",
       "                    --jp-widgets-label-color: white;\n",
       "                    --jp-ui-font-color1: white;\n",
       "                    --jp-layout-color2: #454545;\n",
       "                    background-color: #383838;\n",
       "                }\n",
       "\n",
       "                .geemap-dark .jupyter-button {\n",
       "                    --jp-layout-color3: #383838;\n",
       "                }\n",
       "\n",
       "                .geemap-colab {\n",
       "                    background-color: var(--colab-primary-surface-color, white);\n",
       "                }\n",
       "\n",
       "                .geemap-colab .jupyter-button {\n",
       "                    --jp-layout-color3: var(--colab-primary-surface-color, white);\n",
       "                }\n",
       "            </style>\n",
       "            "
      ],
      "text/plain": [
       "<IPython.core.display.HTML object>"
      ]
     },
     "metadata": {},
     "output_type": "display_data"
    }
   ],
   "source": [
    "# Load and process MODIS LST data\n",
    "lst_collection = (ee.ImageCollection('MODIS/061/MOD11A1')\n",
    "                  .filterDate('2000-01-01', '2025-08-30')\n",
    "                  .select('LST_Day_1km')\n",
    "                  .map(lambda img: img.clip(fc)))\n",
    "\n",
    "# Convert to Celsius\n",
    "def to_celsius(img):\n",
    "    return img.multiply(0.02).subtract(273.15).copyProperties(img, img.propertyNames())\n",
    "\n",
    "lst_celsius = lst_collection.map(to_celsius)\n",
    "lst_mean = lst_celsius.mean()\n",
    "\n",
    "# Visualization parameters\n",
    "lst_vis = {\n",
    "    \"min\": 10,\n",
    "    \"max\": 40,\n",
    "    \"palette\": ['040274','0502b8','0aab1e','e7eb05','ff4a2d','e90000']\n",
    "}\n",
    "\n",
    "m.add_layer(lst_mean, lst_vis, \"Mean LST (°C)\")\n",
    "\n",
    "# Export LST data\n",
    "lst_export = lst_mean.unmask()\n",
    "geemap.ee_export_image_to_drive(\n",
    "    lst_export,\n",
    "    description=\"lumbini_lst_mean.tif\",\n",
    "    scale=1000,\n",
    "    region=fc.geometry().bounds(),\n",
    ")"
   ]
  },
  {
   "cell_type": "markdown",
   "id": "cc1dd6d3-215d-46e4-8e03-6c153db30c42",
   "metadata": {},
   "source": [
    "## Precipitation (CHIRPS)"
   ]
  },
  {
   "cell_type": "code",
   "execution_count": 6,
   "id": "fb23396e-cd76-48ea-bfc2-4b56f642c409",
   "metadata": {},
   "outputs": [
    {
     "data": {
      "text/html": [
       "\n",
       "            <style>\n",
       "                .geemap-dark {\n",
       "                    --jp-widgets-color: white;\n",
       "                    --jp-widgets-label-color: white;\n",
       "                    --jp-ui-font-color1: white;\n",
       "                    --jp-layout-color2: #454545;\n",
       "                    background-color: #383838;\n",
       "                }\n",
       "\n",
       "                .geemap-dark .jupyter-button {\n",
       "                    --jp-layout-color3: #383838;\n",
       "                }\n",
       "\n",
       "                .geemap-colab {\n",
       "                    background-color: var(--colab-primary-surface-color, white);\n",
       "                }\n",
       "\n",
       "                .geemap-colab .jupyter-button {\n",
       "                    --jp-layout-color3: var(--colab-primary-surface-color, white);\n",
       "                }\n",
       "            </style>\n",
       "            "
      ],
      "text/plain": [
       "<IPython.core.display.HTML object>"
      ]
     },
     "metadata": {},
     "output_type": "display_data"
    }
   ],
   "source": [
    "# Load and process CHIRPS precipitation data\n",
    "chirps = ee.ImageCollection(\"UCSB-CHG/CHIRPS/DAILY\").select(\"precipitation\")\n",
    "\n",
    "# Function for yearly total precipitation\n",
    "def yearly_total_precip(year):\n",
    "    start = ee.Date.fromYMD(year, 1, 1)\n",
    "    end = start.advance(1, \"year\")\n",
    "    yearly = chirps.filterDate(start, end)\n",
    "    return yearly.sum().clip(fc).set(\"year\", year)\n",
    "\n",
    "# Generate yearly totals and compute average\n",
    "years = list(range(2000, 2026))\n",
    "yearly_totals = ee.ImageCollection([yearly_total_precip(y) for y in years])\n",
    "avg_yearly_total = yearly_totals.mean().rename(\"Avg_Yearly_Total_Precip\")\n",
    "\n",
    "# Visualization parameters\n",
    "precip_vis = {\n",
    "    \"min\": 500,\n",
    "    \"max\": 2500,\n",
    "    \"palette\": [\"white\", \"blue\", \"green\", \"yellow\", \"red\"]\n",
    "}\n",
    "\n",
    "m.add_layer(avg_yearly_total, precip_vis, \"Avg Yearly Total Precip (2000-2025)\")\n",
    "\n",
    "# Export precipitation data\n",
    "precip_export = avg_yearly_total.unmask()\n",
    "geemap.ee_export_image_to_drive(\n",
    "    precip_export,\n",
    "    description=\"lumbini_precipitation.tif\",\n",
    "    scale=5500,\n",
    "    region=fc.geometry().bounds(),\n",
    ")"
   ]
  },
  {
   "cell_type": "markdown",
   "id": "279239e9-f863-4c0d-acf8-4b96f748b514",
   "metadata": {},
   "source": [
    "## NDVI (Landsat 8/9)"
   ]
  },
  {
   "cell_type": "code",
   "execution_count": 7,
   "id": "9b86d046-974e-44d6-b7b0-0e5c3fc0ab9a",
   "metadata": {},
   "outputs": [
    {
     "data": {
      "text/html": [
       "\n",
       "            <style>\n",
       "                .geemap-dark {\n",
       "                    --jp-widgets-color: white;\n",
       "                    --jp-widgets-label-color: white;\n",
       "                    --jp-ui-font-color1: white;\n",
       "                    --jp-layout-color2: #454545;\n",
       "                    background-color: #383838;\n",
       "                }\n",
       "\n",
       "                .geemap-dark .jupyter-button {\n",
       "                    --jp-layout-color3: #383838;\n",
       "                }\n",
       "\n",
       "                .geemap-colab {\n",
       "                    background-color: var(--colab-primary-surface-color, white);\n",
       "                }\n",
       "\n",
       "                .geemap-colab .jupyter-button {\n",
       "                    --jp-layout-color3: var(--colab-primary-surface-color, white);\n",
       "                }\n",
       "            </style>\n",
       "            "
      ],
      "text/plain": [
       "<IPython.core.display.HTML object>"
      ]
     },
     "metadata": {},
     "output_type": "display_data"
    }
   ],
   "source": [
    "# Load and process Landsat data for NDVI calculation\n",
    "landsat = (\n",
    "    ee.ImageCollection(\"LANDSAT/LC08/C02/T1_L2\")\n",
    "    .filterBounds(fc)\n",
    "    .filterDate(\"2024-01-01\", \"2024-12-31\")\n",
    "    .filter(ee.Filter.lt(\"CLOUD_COVER\", 20))\n",
    ")\n",
    "\n",
    "def calc_ndvi(image):\n",
    "    # Apply scaling factors\n",
    "    red = image.select(\"SR_B4\").multiply(0.0000275).add(-0.2)\n",
    "    nir = image.select(\"SR_B5\").multiply(0.0000275).add(-0.2)\n",
    "    \n",
    "    # Calculate NDVI\n",
    "    ndvi = nir.subtract(red).divide(nir.add(red)).rename(\"NDVI\")\n",
    "    \n",
    "    # Mask invalid pixels\n",
    "    mask = red.gte(0).And(red.lte(1)).And(nir.gte(0)).And(nir.lte(1))\n",
    "    ndvi = ndvi.updateMask(mask)\n",
    "    \n",
    "    return image.addBands(ndvi)\n",
    "\n",
    "# Apply NDVI function and compute median\n",
    "ndvi_collection = landsat.map(calc_ndvi)\n",
    "ndvi_2024 = ndvi_collection.select(\"NDVI\").median().clip(fc)\n",
    "\n",
    "# Visualization parameters\n",
    "ndvi_vis = {\"min\": -1, \"max\": 1, \"palette\": [\"brown\", \"yellow\", \"green\"]}\n",
    "\n",
    "m.add_layer(ndvi_2024, ndvi_vis, \"Median NDVI 2024\")\n",
    "\n",
    "# Export NDVI data\n",
    "ndvi_export = ndvi_2024.unmask()\n",
    "geemap.ee_export_image_to_drive(\n",
    "    ndvi_export,\n",
    "    description=\"lumbini_ndvi_2024.tif\",\n",
    "    scale=30,\n",
    "    region=fc.geometry().bounds(),\n",
    ")"
   ]
  },
  {
   "cell_type": "markdown",
   "id": "7a16cf76-d5e7-450a-afec-a75652e31725",
   "metadata": {},
   "source": [
    "## Display Final Map"
   ]
  },
  {
   "cell_type": "code",
   "execution_count": 8,
   "id": "33d672b7-0b96-4ef2-8bf0-4070a76df4ab",
   "metadata": {},
   "outputs": [
    {
     "data": {
      "text/html": [
       "\n",
       "            <style>\n",
       "                .geemap-dark {\n",
       "                    --jp-widgets-color: white;\n",
       "                    --jp-widgets-label-color: white;\n",
       "                    --jp-ui-font-color1: white;\n",
       "                    --jp-layout-color2: #454545;\n",
       "                    background-color: #383838;\n",
       "                }\n",
       "\n",
       "                .geemap-dark .jupyter-button {\n",
       "                    --jp-layout-color3: #383838;\n",
       "                }\n",
       "\n",
       "                .geemap-colab {\n",
       "                    background-color: var(--colab-primary-surface-color, white);\n",
       "                }\n",
       "\n",
       "                .geemap-colab .jupyter-button {\n",
       "                    --jp-layout-color3: var(--colab-primary-surface-color, white);\n",
       "                }\n",
       "            </style>\n",
       "            "
      ],
      "text/plain": [
       "<IPython.core.display.HTML object>"
      ]
     },
     "metadata": {},
     "output_type": "display_data"
    },
    {
     "data": {
      "application/vnd.jupyter.widget-view+json": {
       "model_id": "73f7d4b6833e480588cef625e637f8f3",
       "version_major": 2,
       "version_minor": 0
      },
      "text/plain": [
       "Map(center=[0, 0], controls=(WidgetControl(options=['position', 'transparent_bg'], position='topright', transp…"
      ]
     },
     "execution_count": 8,
     "metadata": {},
     "output_type": "execute_result"
    }
   ],
   "source": [
    "# Add layer control and display the map\n",
    "m.add_layer_control()\n",
    "m"
   ]
  }
 ],
 "metadata": {
  "kernelspec": {
   "display_name": "Python (gee_env)",
   "language": "python",
   "name": "gee_env"
  },
  "language_info": {
   "codemirror_mode": {
    "name": "ipython",
    "version": 3
   },
   "file_extension": ".py",
   "mimetype": "text/x-python",
   "name": "python",
   "nbconvert_exporter": "python",
   "pygments_lexer": "ipython3",
   "version": "3.11.13"
  }
 },
 "nbformat": 4,
 "nbformat_minor": 5
}
